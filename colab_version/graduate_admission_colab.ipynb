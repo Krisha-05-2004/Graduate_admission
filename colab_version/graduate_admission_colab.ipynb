{
  "metadata": {
    "kernelspec": {
      "language": "python",
      "display_name": "Python 3",
      "name": "python3"
    },
    "language_info": {
      "pygments_lexer": "ipython3",
      "nbconvert_exporter": "python",
      "version": "3.6.4",
      "file_extension": ".py",
      "codemirror_mode": {
        "name": "ipython",
        "version": 3
      },
      "name": "python",
      "mimetype": "text/x-python"
    },
    "kaggle": {
      "accelerator": "none",
      "dataSources": [
        {
          "sourceId": 228180,
          "sourceType": "datasetVersion",
          "datasetId": 14872
        }
      ],
      "dockerImageVersionId": 30170,
      "isInternetEnabled": false,
      "language": "python",
      "sourceType": "notebook",
      "isGpuEnabled": false
    },
    "colab": {
      "provenance": []
    }
  },
  "nbformat_minor": 0,
  "nbformat": 4,
  "cells": [
    {
      "cell_type": "code",
      "source": [
        "# This Python 3 environment comes with many helpful analytics libraries installed\n",
        "# It is defined by the kaggle/python Docker image: https://github.com/kaggle/docker-python\n",
        "# For example, here's several helpful packages to load\n",
        "\n",
        "import numpy as np # linear algebra\n",
        "import pandas as pd # data processing, CSV file I/O (e.g. pd.read_csv)\n",
        "\n",
        "# Input data files are available in the read-only \"../input/\" directory\n",
        "# For example, running this (by clicking run or pressing Shift+Enter) will list all files under the input directory\n",
        "\n",
        "import os\n",
        "for dirname, _, filenames in os.walk('/kaggle/input'):\n",
        "    for filename in filenames:\n",
        "        print(os.path.join(dirname, filename))\n",
        "\n",
        "# You can write up to 20GB to the current directory (/kaggle/working/) that gets preserved as output when you create a version using \"Save & Run All\"\n",
        "# You can also write temporary files to /kaggle/temp/, but they won't be saved outside of the current session"
      ],
      "metadata": {
        "_uuid": "8f2839f25d086af736a60e9eeb907d3b93b6e0e5",
        "_cell_guid": "b1076dfc-b9ad-4769-8c92-a6c4dae69d19",
        "execution": {
          "iopub.status.busy": "2022-03-11T05:05:13.401047Z",
          "iopub.execute_input": "2022-03-11T05:05:13.40144Z",
          "iopub.status.idle": "2022-03-11T05:05:13.435974Z",
          "shell.execute_reply.started": "2022-03-11T05:05:13.401334Z",
          "shell.execute_reply": "2022-03-11T05:05:13.435352Z"
        },
        "trusted": true,
        "id": "rhnZ3iuQDBxp"
      },
      "outputs": [],
      "execution_count": 1
    },
    {
      "cell_type": "code",
      "source": [
        "df = pd.read_csv('/kaggle/input/graduate-admissions/Admission_Predict_Ver1.1.csv')"
      ],
      "metadata": {
        "execution": {
          "iopub.status.busy": "2022-03-11T05:05:26.373655Z",
          "iopub.execute_input": "2022-03-11T05:05:26.375034Z",
          "iopub.status.idle": "2022-03-11T05:05:26.398026Z",
          "shell.execute_reply.started": "2022-03-11T05:05:26.374978Z",
          "shell.execute_reply": "2022-03-11T05:05:26.397001Z"
        },
        "trusted": true,
        "id": "LZ4xr7PhDBxr",
        "outputId": "2d9fd9b1-8303-40a0-eed2-7dbabe88f84c",
        "colab": {
          "base_uri": "https://localhost:8080/",
          "height": 287
        }
      },
      "outputs": [
        {
          "output_type": "error",
          "ename": "FileNotFoundError",
          "evalue": "[Errno 2] No such file or directory: '/kaggle/input/graduate-admissions/Admission_Predict_Ver1.1.csv'",
          "traceback": [
            "\u001b[0;31m---------------------------------------------------------------------------\u001b[0m",
            "\u001b[0;31mFileNotFoundError\u001b[0m                         Traceback (most recent call last)",
            "\u001b[0;32m/tmp/ipython-input-3490864146.py\u001b[0m in \u001b[0;36m<cell line: 0>\u001b[0;34m()\u001b[0m\n\u001b[0;32m----> 1\u001b[0;31m \u001b[0mdf\u001b[0m \u001b[0;34m=\u001b[0m \u001b[0mpd\u001b[0m\u001b[0;34m.\u001b[0m\u001b[0mread_csv\u001b[0m\u001b[0;34m(\u001b[0m\u001b[0;34m'/kaggle/input/graduate-admissions/Admission_Predict_Ver1.1.csv'\u001b[0m\u001b[0;34m)\u001b[0m\u001b[0;34m\u001b[0m\u001b[0;34m\u001b[0m\u001b[0m\n\u001b[0m",
            "\u001b[0;32m/usr/local/lib/python3.12/dist-packages/pandas/io/parsers/readers.py\u001b[0m in \u001b[0;36mread_csv\u001b[0;34m(filepath_or_buffer, sep, delimiter, header, names, index_col, usecols, dtype, engine, converters, true_values, false_values, skipinitialspace, skiprows, skipfooter, nrows, na_values, keep_default_na, na_filter, verbose, skip_blank_lines, parse_dates, infer_datetime_format, keep_date_col, date_parser, date_format, dayfirst, cache_dates, iterator, chunksize, compression, thousands, decimal, lineterminator, quotechar, quoting, doublequote, escapechar, comment, encoding, encoding_errors, dialect, on_bad_lines, delim_whitespace, low_memory, memory_map, float_precision, storage_options, dtype_backend)\u001b[0m\n\u001b[1;32m   1024\u001b[0m     \u001b[0mkwds\u001b[0m\u001b[0;34m.\u001b[0m\u001b[0mupdate\u001b[0m\u001b[0;34m(\u001b[0m\u001b[0mkwds_defaults\u001b[0m\u001b[0;34m)\u001b[0m\u001b[0;34m\u001b[0m\u001b[0;34m\u001b[0m\u001b[0m\n\u001b[1;32m   1025\u001b[0m \u001b[0;34m\u001b[0m\u001b[0m\n\u001b[0;32m-> 1026\u001b[0;31m     \u001b[0;32mreturn\u001b[0m \u001b[0m_read\u001b[0m\u001b[0;34m(\u001b[0m\u001b[0mfilepath_or_buffer\u001b[0m\u001b[0;34m,\u001b[0m \u001b[0mkwds\u001b[0m\u001b[0;34m)\u001b[0m\u001b[0;34m\u001b[0m\u001b[0;34m\u001b[0m\u001b[0m\n\u001b[0m\u001b[1;32m   1027\u001b[0m \u001b[0;34m\u001b[0m\u001b[0m\n\u001b[1;32m   1028\u001b[0m \u001b[0;34m\u001b[0m\u001b[0m\n",
            "\u001b[0;32m/usr/local/lib/python3.12/dist-packages/pandas/io/parsers/readers.py\u001b[0m in \u001b[0;36m_read\u001b[0;34m(filepath_or_buffer, kwds)\u001b[0m\n\u001b[1;32m    618\u001b[0m \u001b[0;34m\u001b[0m\u001b[0m\n\u001b[1;32m    619\u001b[0m     \u001b[0;31m# Create the parser.\u001b[0m\u001b[0;34m\u001b[0m\u001b[0;34m\u001b[0m\u001b[0m\n\u001b[0;32m--> 620\u001b[0;31m     \u001b[0mparser\u001b[0m \u001b[0;34m=\u001b[0m \u001b[0mTextFileReader\u001b[0m\u001b[0;34m(\u001b[0m\u001b[0mfilepath_or_buffer\u001b[0m\u001b[0;34m,\u001b[0m \u001b[0;34m**\u001b[0m\u001b[0mkwds\u001b[0m\u001b[0;34m)\u001b[0m\u001b[0;34m\u001b[0m\u001b[0;34m\u001b[0m\u001b[0m\n\u001b[0m\u001b[1;32m    621\u001b[0m \u001b[0;34m\u001b[0m\u001b[0m\n\u001b[1;32m    622\u001b[0m     \u001b[0;32mif\u001b[0m \u001b[0mchunksize\u001b[0m \u001b[0;32mor\u001b[0m \u001b[0miterator\u001b[0m\u001b[0;34m:\u001b[0m\u001b[0;34m\u001b[0m\u001b[0;34m\u001b[0m\u001b[0m\n",
            "\u001b[0;32m/usr/local/lib/python3.12/dist-packages/pandas/io/parsers/readers.py\u001b[0m in \u001b[0;36m__init__\u001b[0;34m(self, f, engine, **kwds)\u001b[0m\n\u001b[1;32m   1618\u001b[0m \u001b[0;34m\u001b[0m\u001b[0m\n\u001b[1;32m   1619\u001b[0m         \u001b[0mself\u001b[0m\u001b[0;34m.\u001b[0m\u001b[0mhandles\u001b[0m\u001b[0;34m:\u001b[0m \u001b[0mIOHandles\u001b[0m \u001b[0;34m|\u001b[0m \u001b[0;32mNone\u001b[0m \u001b[0;34m=\u001b[0m \u001b[0;32mNone\u001b[0m\u001b[0;34m\u001b[0m\u001b[0;34m\u001b[0m\u001b[0m\n\u001b[0;32m-> 1620\u001b[0;31m         \u001b[0mself\u001b[0m\u001b[0;34m.\u001b[0m\u001b[0m_engine\u001b[0m \u001b[0;34m=\u001b[0m \u001b[0mself\u001b[0m\u001b[0;34m.\u001b[0m\u001b[0m_make_engine\u001b[0m\u001b[0;34m(\u001b[0m\u001b[0mf\u001b[0m\u001b[0;34m,\u001b[0m \u001b[0mself\u001b[0m\u001b[0;34m.\u001b[0m\u001b[0mengine\u001b[0m\u001b[0;34m)\u001b[0m\u001b[0;34m\u001b[0m\u001b[0;34m\u001b[0m\u001b[0m\n\u001b[0m\u001b[1;32m   1621\u001b[0m \u001b[0;34m\u001b[0m\u001b[0m\n\u001b[1;32m   1622\u001b[0m     \u001b[0;32mdef\u001b[0m \u001b[0mclose\u001b[0m\u001b[0;34m(\u001b[0m\u001b[0mself\u001b[0m\u001b[0;34m)\u001b[0m \u001b[0;34m->\u001b[0m \u001b[0;32mNone\u001b[0m\u001b[0;34m:\u001b[0m\u001b[0;34m\u001b[0m\u001b[0;34m\u001b[0m\u001b[0m\n",
            "\u001b[0;32m/usr/local/lib/python3.12/dist-packages/pandas/io/parsers/readers.py\u001b[0m in \u001b[0;36m_make_engine\u001b[0;34m(self, f, engine)\u001b[0m\n\u001b[1;32m   1878\u001b[0m                 \u001b[0;32mif\u001b[0m \u001b[0;34m\"b\"\u001b[0m \u001b[0;32mnot\u001b[0m \u001b[0;32min\u001b[0m \u001b[0mmode\u001b[0m\u001b[0;34m:\u001b[0m\u001b[0;34m\u001b[0m\u001b[0;34m\u001b[0m\u001b[0m\n\u001b[1;32m   1879\u001b[0m                     \u001b[0mmode\u001b[0m \u001b[0;34m+=\u001b[0m \u001b[0;34m\"b\"\u001b[0m\u001b[0;34m\u001b[0m\u001b[0;34m\u001b[0m\u001b[0m\n\u001b[0;32m-> 1880\u001b[0;31m             self.handles = get_handle(\n\u001b[0m\u001b[1;32m   1881\u001b[0m                 \u001b[0mf\u001b[0m\u001b[0;34m,\u001b[0m\u001b[0;34m\u001b[0m\u001b[0;34m\u001b[0m\u001b[0m\n\u001b[1;32m   1882\u001b[0m                 \u001b[0mmode\u001b[0m\u001b[0;34m,\u001b[0m\u001b[0;34m\u001b[0m\u001b[0;34m\u001b[0m\u001b[0m\n",
            "\u001b[0;32m/usr/local/lib/python3.12/dist-packages/pandas/io/common.py\u001b[0m in \u001b[0;36mget_handle\u001b[0;34m(path_or_buf, mode, encoding, compression, memory_map, is_text, errors, storage_options)\u001b[0m\n\u001b[1;32m    871\u001b[0m         \u001b[0;32mif\u001b[0m \u001b[0mioargs\u001b[0m\u001b[0;34m.\u001b[0m\u001b[0mencoding\u001b[0m \u001b[0;32mand\u001b[0m \u001b[0;34m\"b\"\u001b[0m \u001b[0;32mnot\u001b[0m \u001b[0;32min\u001b[0m \u001b[0mioargs\u001b[0m\u001b[0;34m.\u001b[0m\u001b[0mmode\u001b[0m\u001b[0;34m:\u001b[0m\u001b[0;34m\u001b[0m\u001b[0;34m\u001b[0m\u001b[0m\n\u001b[1;32m    872\u001b[0m             \u001b[0;31m# Encoding\u001b[0m\u001b[0;34m\u001b[0m\u001b[0;34m\u001b[0m\u001b[0m\n\u001b[0;32m--> 873\u001b[0;31m             handle = open(\n\u001b[0m\u001b[1;32m    874\u001b[0m                 \u001b[0mhandle\u001b[0m\u001b[0;34m,\u001b[0m\u001b[0;34m\u001b[0m\u001b[0;34m\u001b[0m\u001b[0m\n\u001b[1;32m    875\u001b[0m                 \u001b[0mioargs\u001b[0m\u001b[0;34m.\u001b[0m\u001b[0mmode\u001b[0m\u001b[0;34m,\u001b[0m\u001b[0;34m\u001b[0m\u001b[0;34m\u001b[0m\u001b[0m\n",
            "\u001b[0;31mFileNotFoundError\u001b[0m: [Errno 2] No such file or directory: '/kaggle/input/graduate-admissions/Admission_Predict_Ver1.1.csv'"
          ]
        }
      ],
      "execution_count": 2
    },
    {
      "cell_type": "code",
      "source": [
        "df.head()"
      ],
      "metadata": {
        "execution": {
          "iopub.status.busy": "2022-03-11T05:05:30.064474Z",
          "iopub.execute_input": "2022-03-11T05:05:30.065585Z",
          "iopub.status.idle": "2022-03-11T05:05:30.087804Z",
          "shell.execute_reply.started": "2022-03-11T05:05:30.065528Z",
          "shell.execute_reply": "2022-03-11T05:05:30.08718Z"
        },
        "trusted": true,
        "id": "e5xpvWMzDBxs"
      },
      "outputs": [],
      "execution_count": null
    },
    {
      "cell_type": "code",
      "source": [
        "df.shape"
      ],
      "metadata": {
        "execution": {
          "iopub.status.busy": "2022-03-11T05:05:36.243744Z",
          "iopub.execute_input": "2022-03-11T05:05:36.244306Z",
          "iopub.status.idle": "2022-03-11T05:05:36.249924Z",
          "shell.execute_reply.started": "2022-03-11T05:05:36.244272Z",
          "shell.execute_reply": "2022-03-11T05:05:36.249029Z"
        },
        "trusted": true,
        "id": "HdiV_CDrDBxs"
      },
      "outputs": [],
      "execution_count": null
    },
    {
      "cell_type": "code",
      "source": [
        "df.info()"
      ],
      "metadata": {
        "execution": {
          "iopub.status.busy": "2022-03-11T05:05:53.354653Z",
          "iopub.execute_input": "2022-03-11T05:05:53.355216Z",
          "iopub.status.idle": "2022-03-11T05:05:53.378103Z",
          "shell.execute_reply.started": "2022-03-11T05:05:53.355181Z",
          "shell.execute_reply": "2022-03-11T05:05:53.377419Z"
        },
        "trusted": true,
        "id": "5UPxtEhBDBxt"
      },
      "outputs": [],
      "execution_count": null
    },
    {
      "cell_type": "code",
      "source": [
        "df.duplicated().sum()"
      ],
      "metadata": {
        "execution": {
          "iopub.status.busy": "2022-03-11T05:06:37.153668Z",
          "iopub.execute_input": "2022-03-11T05:06:37.153942Z",
          "iopub.status.idle": "2022-03-11T05:06:37.165901Z",
          "shell.execute_reply.started": "2022-03-11T05:06:37.153916Z",
          "shell.execute_reply": "2022-03-11T05:06:37.165031Z"
        },
        "trusted": true,
        "id": "MPCCw9-yDBxu"
      },
      "outputs": [],
      "execution_count": null
    },
    {
      "cell_type": "code",
      "source": [
        "df.drop(columns=['Serial No.'],inplace=True)"
      ],
      "metadata": {
        "execution": {
          "iopub.status.busy": "2022-03-11T05:18:17.549549Z",
          "iopub.execute_input": "2022-03-11T05:18:17.550508Z",
          "iopub.status.idle": "2022-03-11T05:18:17.579524Z",
          "shell.execute_reply.started": "2022-03-11T05:18:17.550421Z",
          "shell.execute_reply": "2022-03-11T05:18:17.577948Z"
        },
        "trusted": true,
        "id": "NkGQ_h4oDBxu"
      },
      "outputs": [],
      "execution_count": null
    },
    {
      "cell_type": "code",
      "source": [
        "df.head()"
      ],
      "metadata": {
        "execution": {
          "iopub.status.busy": "2022-03-11T05:18:20.78127Z",
          "iopub.execute_input": "2022-03-11T05:18:20.781776Z",
          "iopub.status.idle": "2022-03-11T05:18:20.809417Z",
          "shell.execute_reply.started": "2022-03-11T05:18:20.781721Z",
          "shell.execute_reply": "2022-03-11T05:18:20.808715Z"
        },
        "trusted": true,
        "id": "ZFlOnxDZDBxu"
      },
      "outputs": [],
      "execution_count": null
    },
    {
      "cell_type": "code",
      "source": [
        "X = df.iloc[:,0:-1]\n",
        "y = df.iloc[:,-1]"
      ],
      "metadata": {
        "execution": {
          "iopub.status.busy": "2022-03-11T05:18:53.834844Z",
          "iopub.execute_input": "2022-03-11T05:18:53.83574Z",
          "iopub.status.idle": "2022-03-11T05:18:53.842654Z",
          "shell.execute_reply.started": "2022-03-11T05:18:53.835694Z",
          "shell.execute_reply": "2022-03-11T05:18:53.841492Z"
        },
        "trusted": true,
        "id": "SOHViG6gDBxv"
      },
      "outputs": [],
      "execution_count": null
    },
    {
      "cell_type": "code",
      "source": [
        "X"
      ],
      "metadata": {
        "execution": {
          "iopub.status.busy": "2022-03-11T05:18:55.561051Z",
          "iopub.execute_input": "2022-03-11T05:18:55.561371Z",
          "iopub.status.idle": "2022-03-11T05:18:55.586856Z",
          "shell.execute_reply.started": "2022-03-11T05:18:55.561338Z",
          "shell.execute_reply": "2022-03-11T05:18:55.585688Z"
        },
        "trusted": true,
        "id": "Z1oz6CkIDBxv"
      },
      "outputs": [],
      "execution_count": null
    },
    {
      "cell_type": "code",
      "source": [
        "y"
      ],
      "metadata": {
        "execution": {
          "iopub.status.busy": "2022-03-11T05:19:01.453822Z",
          "iopub.execute_input": "2022-03-11T05:19:01.454126Z",
          "iopub.status.idle": "2022-03-11T05:19:01.465052Z",
          "shell.execute_reply.started": "2022-03-11T05:19:01.454096Z",
          "shell.execute_reply": "2022-03-11T05:19:01.463876Z"
        },
        "trusted": true,
        "id": "0cRtDmdkDBxv"
      },
      "outputs": [],
      "execution_count": null
    },
    {
      "cell_type": "code",
      "source": [
        "from sklearn.model_selection import train_test_split\n",
        "X_train,X_test,y_train,y_test = train_test_split(X,y,test_size=0.2,random_state=1)"
      ],
      "metadata": {
        "execution": {
          "iopub.status.busy": "2022-03-11T05:19:48.103438Z",
          "iopub.execute_input": "2022-03-11T05:19:48.103753Z",
          "iopub.status.idle": "2022-03-11T05:19:48.114293Z",
          "shell.execute_reply.started": "2022-03-11T05:19:48.103724Z",
          "shell.execute_reply": "2022-03-11T05:19:48.11353Z"
        },
        "trusted": true,
        "id": "1cHBxBl0DBxv"
      },
      "outputs": [],
      "execution_count": null
    },
    {
      "cell_type": "code",
      "source": [
        "X_train"
      ],
      "metadata": {
        "execution": {
          "iopub.status.busy": "2022-03-11T05:19:51.552653Z",
          "iopub.execute_input": "2022-03-11T05:19:51.553709Z",
          "iopub.status.idle": "2022-03-11T05:19:51.574739Z",
          "shell.execute_reply.started": "2022-03-11T05:19:51.55366Z",
          "shell.execute_reply": "2022-03-11T05:19:51.573768Z"
        },
        "trusted": true,
        "id": "97zzROBFDBxw"
      },
      "outputs": [],
      "execution_count": null
    },
    {
      "cell_type": "code",
      "source": [
        "from sklearn.preprocessing import MinMaxScaler\n",
        "scaler = MinMaxScaler()\n",
        "\n",
        "X_train_scaled = scaler.fit_transform(X_train)\n",
        "X_test_scaled = scaler.transform(X_test)"
      ],
      "metadata": {
        "execution": {
          "iopub.status.busy": "2022-03-11T05:20:46.395892Z",
          "iopub.execute_input": "2022-03-11T05:20:46.396197Z",
          "iopub.status.idle": "2022-03-11T05:20:46.408101Z",
          "shell.execute_reply.started": "2022-03-11T05:20:46.396162Z",
          "shell.execute_reply": "2022-03-11T05:20:46.407465Z"
        },
        "trusted": true,
        "id": "BZ6oziMnDBxw"
      },
      "outputs": [],
      "execution_count": null
    },
    {
      "cell_type": "code",
      "source": [
        "X_train_scaled"
      ],
      "metadata": {
        "execution": {
          "iopub.status.busy": "2022-03-11T05:20:55.453264Z",
          "iopub.execute_input": "2022-03-11T05:20:55.453673Z",
          "iopub.status.idle": "2022-03-11T05:20:55.46197Z",
          "shell.execute_reply.started": "2022-03-11T05:20:55.453633Z",
          "shell.execute_reply": "2022-03-11T05:20:55.460824Z"
        },
        "trusted": true,
        "id": "RNLwXw7nDBxw"
      },
      "outputs": [],
      "execution_count": null
    },
    {
      "cell_type": "code",
      "source": [
        "import tensorflow\n",
        "from tensorflow import keras\n",
        "from keras import Sequential\n",
        "from keras.layers import Dense"
      ],
      "metadata": {
        "execution": {
          "iopub.status.busy": "2022-03-11T05:21:52.940695Z",
          "iopub.execute_input": "2022-03-11T05:21:52.940999Z",
          "iopub.status.idle": "2022-03-11T05:21:53.689638Z",
          "shell.execute_reply.started": "2022-03-11T05:21:52.940968Z",
          "shell.execute_reply": "2022-03-11T05:21:53.688691Z"
        },
        "trusted": true,
        "id": "c9jy9KHXDBxw"
      },
      "outputs": [],
      "execution_count": null
    },
    {
      "cell_type": "code",
      "source": [
        "model = Sequential()\n",
        "\n",
        "model.add(Dense(7,activation='relu',input_dim=7))\n",
        "model.add(Dense(7,activation='relu'))\n",
        "model.add(Dense(1,activation='linear'))"
      ],
      "metadata": {
        "execution": {
          "iopub.status.busy": "2022-03-11T05:28:05.020058Z",
          "iopub.execute_input": "2022-03-11T05:28:05.020529Z",
          "iopub.status.idle": "2022-03-11T05:28:05.05996Z",
          "shell.execute_reply.started": "2022-03-11T05:28:05.020494Z",
          "shell.execute_reply": "2022-03-11T05:28:05.059144Z"
        },
        "trusted": true,
        "id": "df-AGfEPDBxw"
      },
      "outputs": [],
      "execution_count": null
    },
    {
      "cell_type": "code",
      "source": [
        "model.summary()"
      ],
      "metadata": {
        "execution": {
          "iopub.status.busy": "2022-03-11T05:28:08.804018Z",
          "iopub.execute_input": "2022-03-11T05:28:08.804505Z",
          "iopub.status.idle": "2022-03-11T05:28:08.813085Z",
          "shell.execute_reply.started": "2022-03-11T05:28:08.804471Z",
          "shell.execute_reply": "2022-03-11T05:28:08.811993Z"
        },
        "trusted": true,
        "id": "dsFlZcojDBxw"
      },
      "outputs": [],
      "execution_count": null
    },
    {
      "cell_type": "code",
      "source": [
        "model.compile(loss='mean_squared_error',optimizer='Adam')"
      ],
      "metadata": {
        "execution": {
          "iopub.status.busy": "2022-03-11T05:28:14.077813Z",
          "iopub.execute_input": "2022-03-11T05:28:14.07811Z",
          "iopub.status.idle": "2022-03-11T05:28:14.090885Z",
          "shell.execute_reply.started": "2022-03-11T05:28:14.078081Z",
          "shell.execute_reply": "2022-03-11T05:28:14.0902Z"
        },
        "trusted": true,
        "id": "ERx850bzDBxw"
      },
      "outputs": [],
      "execution_count": null
    },
    {
      "cell_type": "code",
      "source": [
        "history = model.fit(X_train_scaled,y_train,epochs=100,validation_split=0.2)"
      ],
      "metadata": {
        "execution": {
          "iopub.status.busy": "2022-03-11T05:28:23.321197Z",
          "iopub.execute_input": "2022-03-11T05:28:23.321516Z",
          "iopub.status.idle": "2022-03-11T05:28:33.96788Z",
          "shell.execute_reply.started": "2022-03-11T05:28:23.321484Z",
          "shell.execute_reply": "2022-03-11T05:28:33.96691Z"
        },
        "trusted": true,
        "id": "g3R_qPOkDBxx"
      },
      "outputs": [],
      "execution_count": null
    },
    {
      "cell_type": "code",
      "source": [
        "y_pred = model.predict(X_test_scaled)"
      ],
      "metadata": {
        "execution": {
          "iopub.status.busy": "2022-03-11T05:28:40.33217Z",
          "iopub.execute_input": "2022-03-11T05:28:40.332514Z",
          "iopub.status.idle": "2022-03-11T05:28:40.448046Z",
          "shell.execute_reply.started": "2022-03-11T05:28:40.332479Z",
          "shell.execute_reply": "2022-03-11T05:28:40.447015Z"
        },
        "trusted": true,
        "id": "9KQPLS3oDBxx"
      },
      "outputs": [],
      "execution_count": null
    },
    {
      "cell_type": "code",
      "source": [
        "from sklearn.metrics import r2_score\n",
        "r2_score(y_test,y_pred)"
      ],
      "metadata": {
        "execution": {
          "iopub.status.busy": "2022-03-11T05:28:46.414662Z",
          "iopub.execute_input": "2022-03-11T05:28:46.414981Z",
          "iopub.status.idle": "2022-03-11T05:28:46.423778Z",
          "shell.execute_reply.started": "2022-03-11T05:28:46.414947Z",
          "shell.execute_reply": "2022-03-11T05:28:46.422401Z"
        },
        "trusted": true,
        "id": "bdsqWU2-DBxx"
      },
      "outputs": [],
      "execution_count": null
    },
    {
      "cell_type": "code",
      "source": [
        "import matplotlib.pyplot as plt\n",
        "plt.plot(history.history['loss'])\n",
        "plt.plot(history.history['val_loss'])"
      ],
      "metadata": {
        "execution": {
          "iopub.status.busy": "2022-03-11T05:30:49.89142Z",
          "iopub.execute_input": "2022-03-11T05:30:49.891819Z",
          "iopub.status.idle": "2022-03-11T05:30:50.160472Z",
          "shell.execute_reply.started": "2022-03-11T05:30:49.891779Z",
          "shell.execute_reply": "2022-03-11T05:30:50.159294Z"
        },
        "trusted": true,
        "id": "jO2uaIDYDBxx"
      },
      "outputs": [],
      "execution_count": null
    },
    {
      "cell_type": "code",
      "source": [],
      "metadata": {
        "id": "fpcicw1XDBxx"
      },
      "outputs": [],
      "execution_count": null
    }
  ]
}